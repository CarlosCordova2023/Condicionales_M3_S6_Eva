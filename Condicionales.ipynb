{
  "nbformat": 4,
  "nbformat_minor": 0,
  "metadata": {
    "colab": {
      "provenance": [],
      "authorship_tag": "ABX9TyM/pjZUUIpcBxzBbHnKQH87",
      "include_colab_link": true
    },
    "kernelspec": {
      "name": "python3",
      "display_name": "Python 3"
    },
    "language_info": {
      "name": "python"
    }
  },
  "cells": [
    {
      "cell_type": "markdown",
      "metadata": {
        "id": "view-in-github",
        "colab_type": "text"
      },
      "source": [
        "<a href=\"https://colab.research.google.com/github/CarlosCordova2023/Condicionales_M3_S6_Eva/blob/main/Condicionales.ipynb\" target=\"_parent\"><img src=\"https://colab.research.google.com/assets/colab-badge.svg\" alt=\"Open In Colab\"/></a>"
      ]
    },
    {
      "cell_type": "code",
      "execution_count": 1,
      "metadata": {
        "colab": {
          "base_uri": "https://localhost:8080/"
        },
        "id": "DXrhYHvCZRQi",
        "outputId": "154c3e72-bee7-4191-fc57-c516aad66bbf"
      },
      "outputs": [
        {
          "output_type": "stream",
          "name": "stdout",
          "text": [
            "Ingrese el primer número: 65662\n",
            "Ingrese el segundo número: 9793231341\n",
            "Ingrese el tercer número: -164633230331356\n",
            "Los números en orden de mayor a menor son: 9793231341 65662 -164633230331356\n"
          ]
        }
      ],
      "source": [
        "\n",
        "num1 = int(input(\"Ingrese el primer número: \"))\n",
        "num2 = int(input(\"Ingrese el segundo número: \"))\n",
        "num3 = int(input(\"Ingrese el tercer número: \"))\n",
        "\n",
        "if num1 >= num2 and num1 >= num3:\n",
        "    if num2 >= num3:\n",
        "        mayor, medio, menor = num1, num2, num3\n",
        "    else:\n",
        "        mayor, medio, menor = num1, num3, num2\n",
        "elif num2 >= num1 and num2 >= num3:\n",
        "    if num1 >= num3:\n",
        "        mayor, medio, menor = num2, num1, num3\n",
        "    else:\n",
        "        mayor, medio, menor = num2, num3, num1\n",
        "else:\n",
        "    if num1 >= num2:\n",
        "        mayor, medio, menor = num3, num1, num2\n",
        "    else:\n",
        "        mayor, medio, menor = num3, num2, num1\n",
        "\n",
        "print(\"Los números en orden de mayor a menor son:\", mayor, medio, menor)\n"
      ]
    }
  ]
}